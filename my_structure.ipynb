{
  "nbformat": 4,
  "nbformat_minor": 0,
  "metadata": {
    "colab": {
      "provenance": [],
      "authorship_tag": "ABX9TyO0iftajGfOz4amRXYSvvyb",
      "include_colab_link": true
    },
    "kernelspec": {
      "name": "python3",
      "display_name": "Python 3"
    },
    "language_info": {
      "name": "python"
    }
  },
  "cells": [
    {
      "cell_type": "markdown",
      "metadata": {
        "id": "view-in-github",
        "colab_type": "text"
      },
      "source": [
        "<a href=\"https://colab.research.google.com/github/Ssvetta/structure_task/blob/main/my_structure.ipynb\" target=\"_parent\"><img src=\"https://colab.research.google.com/assets/colab-badge.svg\" alt=\"Open In Colab\"/></a>"
      ]
    },
    {
      "cell_type": "code",
      "source": [
        "cars = []\n",
        "n = int(input(\"Скільки автомобілів? \"))\n",
        "\n",
        "for i in range(n):\n",
        "    car = {}\n",
        "    car[\"марка\"] = input(\"Марка: \")\n",
        "    car[\"рік\"] = int(input(\"Рік випуску: \"))\n",
        "    car[\"ціна\"] = int(input(\"Ціна (грн): \"))\n",
        "    cars.append(car)\n",
        "\n",
        "print(\"\\nАвтомобілі на складі:\")\n",
        "for car in cars:\n",
        "    print(f\"Марка: {car['марка']}, Рік: {car['рік']}, Ціна: {car['ціна']} грн\")\n",
        "\n",
        "print(\"\\nАвтомобілі з ціною менше 40000 грн:\")\n",
        "for car in cars:\n",
        "    if car[\"ціна\"] < 40000:\n",
        "        print(f\"{car['марка']}, {car['рік']}\")"
      ],
      "metadata": {
        "id": "yC1-oadBXWtY",
        "colab": {
          "base_uri": "https://localhost:8080/"
        },
        "outputId": "21bdc93f-9597-4791-f651-01038e7faa36"
      },
      "execution_count": 6,
      "outputs": [
        {
          "output_type": "stream",
          "name": "stdout",
          "text": [
            "Скільки автомобілів? 2\n",
            "Марка: bmw\n",
            "Рік випуску: 2003\n",
            "Ціна (грн): 250000\n",
            "Марка: bmw\n",
            "Рік випуску: 1999\n",
            "Ціна (грн): 2350\n",
            "\n",
            "Автомобілі на складі:\n",
            "Марка: bmw, Рік: 2003, Ціна: 250000 грн\n",
            "Марка: bmw, Рік: 1999, Ціна: 2350 грн\n",
            "\n",
            "Автомобілі з ціною менше 40000 грн:\n",
            "bmw, 1999\n"
          ]
        }
      ]
    },
    {
      "cell_type": "code",
      "source": [
        "class Car:  # створення структури\n",
        "    pass  # тимчасово порожній клас\n",
        "\n",
        "n = int(input(\"Скільки автомобілів: \"))\n",
        "cars = []\n",
        "\n",
        "for i in range(n):\n",
        "    c = Car()  # створення об’єкта\n",
        "    c.brand = input(\"Марка: \")  # додаємо значення полів\n",
        "    c.year = int(input(\"Рік випуску: \"))\n",
        "    c.price = int(input(\"Ціна (грн): \"))\n",
        "    cars.append(c)  # додаємо об’єкт у список\n",
        "\n",
        "# Вивести всі автомобілі\n",
        "print(\"\\nНаявні на складі автомобілі:\")\n",
        "for c in cars:\n",
        "    print(f\"{c.brand}, {c.year}, {c.price} грн\")\n",
        "\n",
        "# Вивести автомобілі дешевші за 40000 грн\n",
        "print(\"\\nАвтомобілі з ціною менше 40000 грн:\")\n",
        "for c in cars:\n",
        "    if c.price < 40000:\n",
        "        print(f\"{c.brand}, {c.year}\")"
      ],
      "metadata": {
        "id": "frMrnCt8aOp7",
        "colab": {
          "base_uri": "https://localhost:8080/"
        },
        "outputId": "edf0d372-64de-43c0-b13a-cb666d657f6d"
      },
      "execution_count": 5,
      "outputs": [
        {
          "output_type": "stream",
          "name": "stdout",
          "text": [
            "Скільки автомобілів: 2\n",
            "Марка: bmw\n",
            "Рік випуску: 2005\n",
            "Ціна (грн): 35000\n",
            "Марка: bmw\n",
            "Рік випуску: 2000\n",
            "Ціна (грн): 39999\n",
            "\n",
            "Наявні на складі автомобілі:\n",
            "bmw, 2005, 35000 грн\n",
            "bmw, 2000, 39999 грн\n",
            "\n",
            "Автомобілі з ціною менше 40000 грн:\n",
            "bmw, 2005\n",
            "bmw, 2000\n"
          ]
        }
      ]
    },
    {
      "cell_type": "code",
      "source": [
        "students = []\n",
        "n = int(input(\"Скільки студентів? \"))\n",
        "\n",
        "for i in range(n):\n",
        "    s = {}\n",
        "    s[\"pib\"] = input(\"П.І.П.: \")\n",
        "    s[\"dob\"] = input(\"Дата народження: \")\n",
        "    s[\"address\"] = input(\"Адреса: \")\n",
        "    s[\"kurs\"] = int(input(\"Курс: \"))\n",
        "    s[\"group\"] = input(\"Група: \")\n",
        "    students.append(s)\n",
        "\n",
        "print(\"\\nСтуденти 2-го курсу:\")\n",
        "for s in students:\n",
        "    if s[\"kurs\"] == 2:\n",
        "        print(s[\"pib\"])"
      ],
      "metadata": {
        "id": "J3TvkrXYa_hT",
        "colab": {
          "base_uri": "https://localhost:8080/"
        },
        "outputId": "f15f2f73-8290-423c-a74a-9ad94ccf6d69"
      },
      "execution_count": 8,
      "outputs": [
        {
          "output_type": "stream",
          "name": "stdout",
          "text": [
            "Скільки студентів? 2\n",
            "П.І.П.: Гріщенко Світлана Василівна\n",
            "Дата народження: 2006\n",
            "Адреса: Ващука\n",
            "Курс: 2\n",
            "Група: 2СОМ\n",
            "П.І.П.: Пучкова Валерія Ігорівна\n",
            "Дата народження: 2007\n",
            "Адреса: Пирогова\n",
            "Курс: 2\n",
            "Група: 2СОМ\n",
            "\n",
            "Студенти 2-го курсу:\n",
            "Гріщенко Світлана Василівна\n",
            "Пучкова Валерія Ігорівна\n"
          ]
        }
      ]
    },
    {
      "cell_type": "code",
      "source": [
        "class Student:  # створення класу\n",
        "    pass  # тимчасово порожній клас\n",
        "\n",
        "n = int(input(\"Скільки студентів? \"))\n",
        "students = []\n",
        "\n",
        "for i in range(n):\n",
        "    s = Student()  # створення об'єкта\n",
        "    s.pib = input(\"П.І.П.: \")\n",
        "    s.dob = input(\"Дата народження: \")\n",
        "    s.address = input(\"Адреса: \")\n",
        "    s.kurs = int(input(\"Курс: \"))\n",
        "    s.group = input(\"Група: \")\n",
        "    students.append(s)\n",
        "\n",
        "print(\"\\nСтуденти 2-го курсу:\")\n",
        "for s in students:\n",
        "    if s.kurs == 2:\n",
        "        print(s.pib)"
      ],
      "metadata": {
        "id": "CrxG-70qbaRt",
        "colab": {
          "base_uri": "https://localhost:8080/"
        },
        "outputId": "2d7a4668-9880-4768-f410-20775d28a749"
      },
      "execution_count": 9,
      "outputs": [
        {
          "output_type": "stream",
          "name": "stdout",
          "text": [
            "Скільки студентів? 1\n",
            "П.І.П.: Гріщенко.С.В.\n",
            "Дата народження: 2006\n",
            "Адреса: Ващука\n",
            "Курс: 2\n",
            "Група: 2СОМ\n",
            "\n",
            "Студенти 2-го курсу:\n",
            "Гріщенко.С.В.\n"
          ]
        }
      ]
    }
  ]
}